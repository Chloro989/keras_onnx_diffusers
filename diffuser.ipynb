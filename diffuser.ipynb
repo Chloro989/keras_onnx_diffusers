{
 "cells": [
  {
   "attachments": {},
   "cell_type": "markdown",
   "metadata": {
    "id": "gvFI4UYdIeh_"
   },
   "source": [
    "# This is a very simple code to generate a image from text."
   ]
  },
  {
   "attachments": {},
   "cell_type": "markdown",
   "metadata": {},
   "source": [
    "## SetUp "
   ]
  },
  {
   "attachments": {},
   "cell_type": "markdown",
   "metadata": {},
   "source": [
    "### Execute this cell to install dependencies"
   ]
  },
  {
   "cell_type": "code",
   "execution_count": null,
   "metadata": {
    "colab": {
     "base_uri": "https://localhost:8080/"
    },
    "id": "9HL3rgXXT4RK",
    "outputId": "028ef9fe-c2a8-4483-9aa0-45061007bd1a",
    "tags": []
   },
   "outputs": [],
   "source": [
    "# Module Stuff\n",
    "%cd \"~/Desktop/keras_onnx_diffusers\"\n",
    "!poetry update"
   ]
  },
  {
   "attachments": {},
   "cell_type": "markdown",
   "metadata": {},
   "source": [
    "---"
   ]
  },
  {
   "attachments": {},
   "cell_type": "markdown",
   "metadata": {},
   "source": [
    "# ONNX Diffusion"
   ]
  },
  {
   "cell_type": "code",
   "execution_count": null,
   "metadata": {
    "tags": []
   },
   "outputs": [],
   "source": [
    "import random\n",
    "import datetime\n",
    "import os\n",
    "from PIL import Image\n",
    "from PIL.PngImagePlugin import PngInfo\n",
    "import numpy as np\n",
    "import matplotlib.pyplot as plt\n",
    "from diffusers import OnnxStableDiffusionPipeline\n",
    "\n",
    "# Check if directory exists\n",
    "if os.path.exists(\"output/\"):\n",
    "    print(\"ouput path confirmed\")\n",
    "else:\n",
    "    # Create directory\n",
    "    os.makedirs(\"output/\")\n",
    "\n",
    "# Height and Width\n",
    "H = 512\n",
    "W = 512\n",
    "\n",
    "# Set Pipe\n",
    "pipe = OnnxStableDiffusionPipeline.from_pretrained(\n",
    "    \"model/stable_diffusion_onnx\", provider=\"DmlExecutionProvider\"\n",
    ")\n",
    "\n",
    "# Negative Prompt\n",
    "NP = (\n",
    "    \"NSFW,watermark,bad face,bad hand,bad face shape,extra hands,extra fingers,bad arm,extra arms,missing leg,detached arm,\"\n",
    "    \"inverted hand,ugly,bad eyes,logo,worst quality,blurry,bad anatomy,awful,separated,unpleasant quality\"\n",
    ")\n",
    "\n",
    "\n",
    "# Text to Image\n",
    "def text_to_image(text, num_images_per_prompt=1):\n",
    "    text = (\n",
    "        \"best quality,master piece,ultra detailed,4K quality,breathtaking,authentic\"\n",
    "        + text\n",
    "    )\n",
    "    for _ in range(num_images_per_prompt):\n",
    "        image = pipe(\n",
    "            str(text),\n",
    "            negative_prompt=NP,\n",
    "            height=H,\n",
    "            width=W,\n",
    "            num_inference_steps=96,  # Number of iterations (controls image quality)\n",
    "            guidance_scale=7.2,\n",
    "            eta=0.1,\n",
    "            num_images_per_prompt=1,\n",
    "        ).images[0]\n",
    "\n",
    "        # Display each image\n",
    "        plt.imshow(image)\n",
    "        plt.axis(\"off\")  # to hide the axis\n",
    "        plt.show()\n",
    "\n",
    "        # Save Image\n",
    "        pnginfo = PngInfo()\n",
    "        pnginfo.add_text(\"prompt\", text)\n",
    "        image.save(\n",
    "            \"output/\"\n",
    "            + str(datetime.datetime.now().strftime(\"%Y%m%d%H%M%S%f\"))\n",
    "            + \".png\",\n",
    "            pnginfo=pnginfo,\n",
    "        )\n",
    "        print(\"***\" \" saved at 'output/' \" \"***\")\n",
    "\n",
    "\n",
    "# Execution\n",
    "text = input(\"Enter Prompt Here\" \" Use Coron ->, to separate words:\")\n",
    "cnt = int(input(\"Enter the Number of Images You Want to Create: \"))\n",
    "text_to_image(text, num_images_per_prompt=cnt)"
   ]
  },
  {
   "attachments": {},
   "cell_type": "markdown",
   "metadata": {},
   "source": [
    "### Appendex"
   ]
  },
  {
   "attachments": {},
   "cell_type": "markdown",
   "metadata": {},
   "source": [
    "#### Make an Image into Black and White"
   ]
  },
  {
   "cell_type": "code",
   "execution_count": null,
   "metadata": {
    "jupyter": {
     "source_hidden": true
    },
    "scrolled": true,
    "tags": []
   },
   "outputs": [],
   "source": [
    "from tkinter import Button, Tk, filedialog\n",
    "\n",
    "import numpy as np\n",
    "from PIL import Image\n",
    "\n",
    "\n",
    "def select_image():\n",
    "    filename = filedialog.askopenfilename(\n",
    "        filetypes=[(\"Image files\", \"*.jpg *.jpeg *.png\")]\n",
    "    )\n",
    "    print(\"Selected:\", filename)\n",
    "\n",
    "    global selected_image\n",
    "    selected_image = filename\n",
    "\n",
    "\n",
    "root = Tk()\n",
    "selected_image = None\n",
    "\n",
    "# ボタンを作成して配置する\n",
    "button = Button(root, text=\"Select Image\", command=select_image)\n",
    "button.pack()\n",
    "\n",
    "root.mainloop()\n",
    "\n",
    "\n",
    "# Load Image\n",
    "img = Image.open(selected_image)\n",
    "\n",
    "# NumPy配列を読み込む\n",
    "arr = np.array(img)\n",
    "\n",
    "# NumPy配列をPillowのImageオブジェクトに変換する\n",
    "img = Image.fromarray(np.uint8(arr))\n",
    "\n",
    "# Convert / 画像を白黒に変換\n",
    "img = img.convert(\"L\")\n",
    "\n",
    "# Save Image / 保存する\n",
    "img.save(\"images/\" + str(datetime.datetime.now().strftime(\"%Y%m%d%H%M%S%f\")) + \".png\")\n",
    "print(\"saved at image/\")"
   ]
  },
  {
   "attachments": {},
   "cell_type": "markdown",
   "metadata": {
    "tags": []
   },
   "source": [
    "## For Further Learning, Check Out the Links Below"
   ]
  },
  {
   "attachments": {},
   "cell_type": "markdown",
   "metadata": {},
   "source": [
    "- [**Official** Doc About Prompting @DreamStudio](https://beta.dreamstudio.ai/prompt-guide)"
   ]
  },
  {
   "attachments": {},
   "cell_type": "markdown",
   "metadata": {},
   "source": [
    "- [About Text to Image Using Diffusers @Huggingface](https://huggingface.co/docs/diffusers/api/pipelines/stable_diffusion/text2img)"
   ]
  },
  {
   "attachments": {},
   "cell_type": "markdown",
   "metadata": {},
   "source": [
    "- [About keras_cv @GitGub](https://github.com/keras-team/keras-cv)"
   ]
  },
  {
   "attachments": {},
   "cell_type": "markdown",
   "metadata": {},
   "source": [
    "- [**Japanese** Doc About How to Use Poetry](https://cocoatomo.github.io/poetry-ja/cli/)"
   ]
  },
  {
   "attachments": {},
   "cell_type": "markdown",
   "metadata": {},
   "source": [
    "- [Find a Prompt Here @Lexica](https://lexica.art/)"
   ]
  },
  {
   "attachments": {},
   "cell_type": "markdown",
   "metadata": {
    "tags": []
   },
   "source": [
    "### A Bit of Tips"
   ]
  },
  {
   "attachments": {},
   "cell_type": "markdown",
   "metadata": {
    "tags": []
   },
   "source": [
    "#### Run this cell"
   ]
  },
  {
   "cell_type": "code",
   "execution_count": null,
   "metadata": {
    "jupyter": {
     "source_hidden": true
    },
    "tags": []
   },
   "outputs": [],
   "source": [
    "from IPython.display import display, HTML, Image\n",
    "from PIL import Image\n",
    "import numpy as np\n",
    "\n",
    "display(HTML(\"<h4>Using Old (like 100 years old) Artists Name Is Useful</h4>\"))\n",
    "\n",
    "\n",
    "def plot_images(image_paths):\n",
    "    images = [np.array(Image.open(path)) for path in image_paths]\n",
    "\n",
    "    plt.figure(figsize=(10, 10))\n",
    "\n",
    "    for i in range(len(images)):\n",
    "        ax = plt.subplot(1, len(images), i + 1)\n",
    "        plt.imshow(images[i])\n",
    "        plt.axis(\"off\")\n",
    "\n",
    "    plt.show()\n",
    "\n",
    "\n",
    "html = \"\"\"\n",
    "<html>\n",
    "<head>\n",
    "    <title>Interactive Div</title>\n",
    "    <style>\n",
    "        #content {\n",
    "            cursor: pointer;\n",
    "            color: white;\n",
    "            background-color: #007bff;\n",
    "            width: 600px;\n",
    "            height: 25px;\n",
    "            padding: 10px;\n",
    "            text-align: center;\n",
    "            border-radius: 5px;\n",
    "        }\n",
    "\n",
    "        #myframe {\n",
    "            display: none;\n",
    "            width: 600px;\n",
    "            height: 800px;\n",
    "        }\n",
    "    </style>\n",
    "\n",
    "    <script src=\"https://code.jquery.com/jquery-3.5.1.min.js\"></script>\n",
    "    <script>\n",
    "        $(document).ready(function(){\n",
    "            $(\"#content\").click(function(){\n",
    "                $(\"#myframe\").toggle();\n",
    "            });\n",
    "        });\n",
    "    </script>\n",
    "</head>\n",
    "<body>\n",
    "    <div id=\"content\">Click here to Check Viktor Vansnetsov's Wikipedia</div>\n",
    "    <iframe id=\"myframe\" src=\"https://en.wikipedia.org/wiki/Viktor_Vasnetsov\"></iframe>\n",
    "</body>\n",
    "</html>\n",
    "\"\"\"\n",
    "\n",
    "display(HTML(html))"
   ]
  }
 ],
 "metadata": {
  "accelerator": "GPU",
  "colab": {
   "gpuType": "T4",
   "provenance": []
  },
  "gpuClass": "standard",
  "kernelspec": {
   "display_name": "keras_onnx_diffusion",
   "language": "python",
   "name": "keras_onnx_diffusion"
  },
  "language_info": {
   "codemirror_mode": {
    "name": "ipython",
    "version": 3
   },
   "file_extension": ".py",
   "mimetype": "text/x-python",
   "name": "python",
   "nbconvert_exporter": "python",
   "pygments_lexer": "ipython3",
   "version": "3.10.6"
  },
  "toc-autonumbering": true,
  "toc-showmarkdowntxt": true
 },
 "nbformat": 4,
 "nbformat_minor": 4
}
